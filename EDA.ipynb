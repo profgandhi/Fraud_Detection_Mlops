{
 "cells": [
  {
   "cell_type": "code",
   "execution_count": 1,
   "metadata": {},
   "outputs": [],
   "source": [
    "import pandas as pd"
   ]
  },
  {
   "cell_type": "code",
   "execution_count": 2,
   "metadata": {},
   "outputs": [],
   "source": [
    "df = pd.read_csv('Data\\credit_card_transactions-ibm_v2.csv',nrows=20000)"
   ]
  },
  {
   "cell_type": "code",
   "execution_count": 3,
   "metadata": {},
   "outputs": [],
   "source": [
    "df[\"card_id\"] = df[\"User\"].astype(str) + \"_\" + df[\"Card\"].astype(str)"
   ]
  },
  {
   "cell_type": "code",
   "execution_count": 4,
   "metadata": {},
   "outputs": [],
   "source": [
    "client_node_data = pd.DataFrame([1]*len(df[\"card_id\"].unique())).set_index(df[\"card_id\"].unique())"
   ]
  },
  {
   "cell_type": "code",
   "execution_count": 3,
   "metadata": {},
   "outputs": [
    {
     "data": {
      "text/html": [
       "<div>\n",
       "<style scoped>\n",
       "    .dataframe tbody tr th:only-of-type {\n",
       "        vertical-align: middle;\n",
       "    }\n",
       "\n",
       "    .dataframe tbody tr th {\n",
       "        vertical-align: top;\n",
       "    }\n",
       "\n",
       "    .dataframe thead th {\n",
       "        text-align: right;\n",
       "    }\n",
       "</style>\n",
       "<table border=\"1\" class=\"dataframe\">\n",
       "  <thead>\n",
       "    <tr style=\"text-align: right;\">\n",
       "      <th></th>\n",
       "      <th>User</th>\n",
       "      <th>Card</th>\n",
       "      <th>Year</th>\n",
       "      <th>Month</th>\n",
       "      <th>Day</th>\n",
       "      <th>Time</th>\n",
       "      <th>Amount</th>\n",
       "      <th>Use Chip</th>\n",
       "      <th>Merchant Name</th>\n",
       "      <th>Merchant City</th>\n",
       "      <th>Merchant State</th>\n",
       "      <th>Zip</th>\n",
       "      <th>MCC</th>\n",
       "      <th>Errors?</th>\n",
       "      <th>Is Fraud?</th>\n",
       "    </tr>\n",
       "  </thead>\n",
       "  <tbody>\n",
       "    <tr>\n",
       "      <th>0</th>\n",
       "      <td>0</td>\n",
       "      <td>0</td>\n",
       "      <td>2002</td>\n",
       "      <td>9</td>\n",
       "      <td>1</td>\n",
       "      <td>06:21</td>\n",
       "      <td>$134.09</td>\n",
       "      <td>Swipe Transaction</td>\n",
       "      <td>3527213246127876953</td>\n",
       "      <td>La Verne</td>\n",
       "      <td>CA</td>\n",
       "      <td>91750.0</td>\n",
       "      <td>5300</td>\n",
       "      <td>NaN</td>\n",
       "      <td>No</td>\n",
       "    </tr>\n",
       "    <tr>\n",
       "      <th>1</th>\n",
       "      <td>0</td>\n",
       "      <td>0</td>\n",
       "      <td>2002</td>\n",
       "      <td>9</td>\n",
       "      <td>1</td>\n",
       "      <td>06:42</td>\n",
       "      <td>$38.48</td>\n",
       "      <td>Swipe Transaction</td>\n",
       "      <td>-727612092139916043</td>\n",
       "      <td>Monterey Park</td>\n",
       "      <td>CA</td>\n",
       "      <td>91754.0</td>\n",
       "      <td>5411</td>\n",
       "      <td>NaN</td>\n",
       "      <td>No</td>\n",
       "    </tr>\n",
       "    <tr>\n",
       "      <th>2</th>\n",
       "      <td>0</td>\n",
       "      <td>0</td>\n",
       "      <td>2002</td>\n",
       "      <td>9</td>\n",
       "      <td>2</td>\n",
       "      <td>06:22</td>\n",
       "      <td>$120.34</td>\n",
       "      <td>Swipe Transaction</td>\n",
       "      <td>-727612092139916043</td>\n",
       "      <td>Monterey Park</td>\n",
       "      <td>CA</td>\n",
       "      <td>91754.0</td>\n",
       "      <td>5411</td>\n",
       "      <td>NaN</td>\n",
       "      <td>No</td>\n",
       "    </tr>\n",
       "    <tr>\n",
       "      <th>3</th>\n",
       "      <td>0</td>\n",
       "      <td>0</td>\n",
       "      <td>2002</td>\n",
       "      <td>9</td>\n",
       "      <td>2</td>\n",
       "      <td>17:45</td>\n",
       "      <td>$128.95</td>\n",
       "      <td>Swipe Transaction</td>\n",
       "      <td>3414527459579106770</td>\n",
       "      <td>Monterey Park</td>\n",
       "      <td>CA</td>\n",
       "      <td>91754.0</td>\n",
       "      <td>5651</td>\n",
       "      <td>NaN</td>\n",
       "      <td>No</td>\n",
       "    </tr>\n",
       "    <tr>\n",
       "      <th>4</th>\n",
       "      <td>0</td>\n",
       "      <td>0</td>\n",
       "      <td>2002</td>\n",
       "      <td>9</td>\n",
       "      <td>3</td>\n",
       "      <td>06:23</td>\n",
       "      <td>$104.71</td>\n",
       "      <td>Swipe Transaction</td>\n",
       "      <td>5817218446178736267</td>\n",
       "      <td>La Verne</td>\n",
       "      <td>CA</td>\n",
       "      <td>91750.0</td>\n",
       "      <td>5912</td>\n",
       "      <td>NaN</td>\n",
       "      <td>No</td>\n",
       "    </tr>\n",
       "  </tbody>\n",
       "</table>\n",
       "</div>"
      ],
      "text/plain": [
       "   User  Card  Year  Month  Day   Time   Amount           Use Chip  \\\n",
       "0     0     0  2002      9    1  06:21  $134.09  Swipe Transaction   \n",
       "1     0     0  2002      9    1  06:42   $38.48  Swipe Transaction   \n",
       "2     0     0  2002      9    2  06:22  $120.34  Swipe Transaction   \n",
       "3     0     0  2002      9    2  17:45  $128.95  Swipe Transaction   \n",
       "4     0     0  2002      9    3  06:23  $104.71  Swipe Transaction   \n",
       "\n",
       "         Merchant Name  Merchant City Merchant State      Zip   MCC Errors?  \\\n",
       "0  3527213246127876953       La Verne             CA  91750.0  5300     NaN   \n",
       "1  -727612092139916043  Monterey Park             CA  91754.0  5411     NaN   \n",
       "2  -727612092139916043  Monterey Park             CA  91754.0  5411     NaN   \n",
       "3  3414527459579106770  Monterey Park             CA  91754.0  5651     NaN   \n",
       "4  5817218446178736267       La Verne             CA  91750.0  5912     NaN   \n",
       "\n",
       "  Is Fraud?  \n",
       "0        No  \n",
       "1        No  \n",
       "2        No  \n",
       "3        No  \n",
       "4        No  "
      ]
     },
     "execution_count": 3,
     "metadata": {},
     "output_type": "execute_result"
    }
   ],
   "source": [
    "df.head()"
   ]
  },
  {
   "cell_type": "code",
   "execution_count": null,
   "metadata": {},
   "outputs": [],
   "source": [
    "# We have 24 Million rows\n",
    "# 100343 unique merchants\n",
    "# 109 MCC\n",
    "# 13429 merchant city\n",
    "# 223 states"
   ]
  },
  {
   "cell_type": "code",
   "execution_count": 4,
   "metadata": {},
   "outputs": [
    {
     "data": {
      "text/plain": [
       "(24386900, 15)"
      ]
     },
     "execution_count": 4,
     "metadata": {},
     "output_type": "execute_result"
    }
   ],
   "source": [
    "df.shape"
   ]
  },
  {
   "cell_type": "code",
   "execution_count": 12,
   "metadata": {},
   "outputs": [
    {
     "data": {
      "text/plain": [
       "User                     0\n",
       "Card                     0\n",
       "Year                     0\n",
       "Month                    0\n",
       "Day                      0\n",
       "Time                     0\n",
       "Amount                   0\n",
       "Use Chip                 0\n",
       "Merchant Name            0\n",
       "Merchant City            0\n",
       "Merchant State     2720821\n",
       "Zip                2878135\n",
       "MCC                      0\n",
       "Errors?           23998469\n",
       "Is Fraud?                0\n",
       "dtype: int64"
      ]
     },
     "execution_count": 12,
     "metadata": {},
     "output_type": "execute_result"
    }
   ],
   "source": [
    "df.isna().sum()"
   ]
  },
  {
   "cell_type": "code",
   "execution_count": 13,
   "metadata": {},
   "outputs": [
    {
     "name": "stdout",
     "output_type": "stream",
     "text": [
      "User 2000\n",
      "Card 9\n",
      "Year 30\n",
      "Month 12\n",
      "Day 31\n",
      "Time 1440\n",
      "Amount 98953\n",
      "Use Chip 3\n",
      "Merchant Name 100343\n",
      "Merchant City 13429\n",
      "Merchant State 223\n",
      "Zip 27321\n",
      "MCC 109\n",
      "Errors? 23\n",
      "Is Fraud? 2\n"
     ]
    }
   ],
   "source": [
    "for i in df.columns:\n",
    "    print(i,df[i].nunique())"
   ]
  },
  {
   "cell_type": "code",
   "execution_count": 7,
   "metadata": {},
   "outputs": [],
   "source": [
    "from src.ingest_data import IngestData\n",
    "from src.data_cleaning import DataPreprocessStrategy\n",
    "from src.making_graph import HeteroGraphStrategy\n",
    "from src.model_dev import HeteroGnnClassificationModel\n",
    "from src.visualize import NodeRepresentation"
   ]
  },
  {
   "cell_type": "code",
   "execution_count": 8,
   "metadata": {},
   "outputs": [],
   "source": [
    "graph_def_dict = {\n",
    "    'target' : \"Is Fraud?\",\n",
    "    \"transaction\" : [\"Use Chip\",\"Merchant City\",\"Errors?\",\"Amount\",\"Hour\",\"Minute\"],\n",
    "    'graph':{\n",
    "        \"card_id\" : ['one'],\n",
    "        \"Merchant Name\" : ['one']\n",
    "    }\n",
    "}\n",
    "data_path=\"Data\\\\credit_card_transactions-ibm_v2.csv\""
   ]
  },
  {
   "cell_type": "code",
   "execution_count": 9,
   "metadata": {},
   "outputs": [
    {
     "name": "stdout",
     "output_type": "stream",
     "text": [
      "       Year  Month  Day  Amount  Use Chip  Merchant Name  Merchant City   MCC  \\\n",
      "0      2002      9    1  134.09         2            376            128  5300   \n",
      "1      2002      9    1   38.48         2            258            165  5411   \n",
      "2      2002      9    2  120.34         2            258            165  5411   \n",
      "3      2002      9    2  128.95         2            372            165  5651   \n",
      "4      2002      9    3  104.71         2            456            128  5912   \n",
      "...     ...    ...  ...     ...       ...            ...            ...   ...   \n",
      "19995  2011      2   20  112.73         2            400             60  5655   \n",
      "19996  2011      2   22   62.54         2             57            143  5814   \n",
      "19997  2011      2   27   56.41         2            124            143  5812   \n",
      "19998  2011      2   28  111.61         2            175            143  7538   \n",
      "19999  2011      3    1   12.72         2             57            143  5814   \n",
      "\n",
      "       Errors?  Is Fraud?  card_id  Hour  Minute  \n",
      "0            7          0        0     6      21  \n",
      "1            7          0        0     6      42  \n",
      "2            7          0        0     6      22  \n",
      "3            7          0        0    17      45  \n",
      "4            7          0        0     6      23  \n",
      "...        ...        ...      ...   ...     ...  \n",
      "19995        7          0        6     6      40  \n",
      "19996        7          0        6    18      54  \n",
      "19997        7          0        6    18      46  \n",
      "19998        7          0        6    13      27  \n",
      "19999        7          0        6    12      31  \n",
      "\n",
      "[20000 rows x 13 columns]\n",
      "       Use Chip  Merchant City  Errors?  Amount  Hour  Minute\n",
      "0             2            128        7  134.09     6      21\n",
      "1             2            165        7   38.48     6      42\n",
      "2             2            165        7  120.34     6      22\n",
      "3             2            165        7  128.95    17      45\n",
      "4             2            128        7  104.71     6      23\n",
      "...         ...            ...      ...     ...   ...     ...\n",
      "19995         2             60        7  112.73     6      40\n",
      "19996         2            143        7   62.54    18      54\n",
      "19997         2            143        7   56.41    18      46\n",
      "19998         2            143        7  111.61    13      27\n",
      "19999         2            143        7   12.72    12      31\n",
      "\n",
      "[20000 rows x 6 columns]\n",
      "x-> card_id\n",
      "x-> Merchant Name\n",
      " Making labels and masks \n",
      "edges-> card_id\n",
      "[[    0     1     2 ... 19997 19998 19999]\n",
      " [    0     0     0 ...     6     6     6]]\n",
      "edges-> Merchant Name\n",
      "[[    0     1     2 ... 19997 19998 19999]\n",
      " [  376   258   258 ...   124   175    57]]\n",
      "HeteroData(\n",
      "  \u001b[1mtransaction\u001b[0m={\n",
      "    x=[20000, 6],\n",
      "    y=[20000],\n",
      "    train_mask=[20000],\n",
      "    val_mask=[20000]\n",
      "  },\n",
      "  \u001b[1mcard_id\u001b[0m={ x=[7, 1] },\n",
      "  \u001b[1mMerchant Name\u001b[0m={ x=[562, 1] },\n",
      "  \u001b[1m(transaction, ::card_id, card_id)\u001b[0m={ edge_index=[2, 20000] },\n",
      "  \u001b[1m(transaction, ::Merchant Name, Merchant Name)\u001b[0m={ edge_index=[2, 20000] },\n",
      "  \u001b[1m(card_id, rev_::card_id, transaction)\u001b[0m={ edge_index=[2, 20000] },\n",
      "  \u001b[1m(Merchant Name, rev_::Merchant Name, transaction)\u001b[0m={ edge_index=[2, 20000] }\n",
      ")\n",
      "HeteroData(\n",
      "  \u001b[1mtransaction\u001b[0m={\n",
      "    x=[20000, 6],\n",
      "    y=[20000],\n",
      "    train_mask=[20000],\n",
      "    val_mask=[20000]\n",
      "  },\n",
      "  \u001b[1mcard_id\u001b[0m={ x=[7, 1] },\n",
      "  \u001b[1mMerchant Name\u001b[0m={ x=[562, 1] },\n",
      "  \u001b[1m(transaction, ::card_id, card_id)\u001b[0m={ edge_index=[2, 20000] },\n",
      "  \u001b[1m(transaction, ::Merchant Name, Merchant Name)\u001b[0m={ edge_index=[2, 20000] },\n",
      "  \u001b[1m(card_id, rev_::card_id, transaction)\u001b[0m={ edge_index=[2, 20000] },\n",
      "  \u001b[1m(Merchant Name, rev_::Merchant Name, transaction)\u001b[0m={ edge_index=[2, 20000] }\n",
      ")\n"
     ]
    },
    {
     "name": "stderr",
     "output_type": "stream",
     "text": [
      "100%|██████████| 30/30 [00:05<00:00,  5.20it/s]\n",
      "100%|██████████| 30/30 [00:06<00:00,  4.64it/s]\n"
     ]
    }
   ],
   "source": [
    "ingest_data = IngestData(data_path)\n",
    "df = ingest_data.get_data()\n",
    "\n",
    "process_strategy = DataPreprocessStrategy()\n",
    "df = process_strategy.handle_data(df)\n",
    "\n",
    "graph_strategy = HeteroGraphStrategy()\n",
    "hgraph = graph_strategy.get_graph(df,graph_def_dict)\n",
    "\n",
    "trained_model = HeteroGnnClassificationModel(hgraph).train()\n",
    "\n",
    "reduc = NodeRepresentation().embedding_dim_reduction(hgraph,trained_model,\"transaction\")"
   ]
  },
  {
   "cell_type": "code",
   "execution_count": 6,
   "metadata": {},
   "outputs": [
    {
     "data": {
      "text/plain": [
       "HeteroGNN(\n",
       "  (convs): ModuleList(\n",
       "    (0-1): 2 x HeteroConv(num_relations=4)\n",
       "  )\n",
       "  (lin): Linear(256, 2, bias=True)\n",
       ")"
      ]
     },
     "execution_count": 6,
     "metadata": {},
     "output_type": "execute_result"
    }
   ],
   "source": [
    "trained_model"
   ]
  },
  {
   "cell_type": "code",
   "execution_count": 13,
   "metadata": {},
   "outputs": [],
   "source": [
    "import plotly.express as px\n",
    "import pandas as pd"
   ]
  },
  {
   "cell_type": "code",
   "execution_count": 16,
   "metadata": {},
   "outputs": [],
   "source": [
    "q = pd.DataFrame(reduc,columns=['x','y'])"
   ]
  },
  {
   "cell_type": "code",
   "execution_count": 18,
   "metadata": {},
   "outputs": [],
   "source": [
    "q['cluster'] = hgraph['transaction'].y"
   ]
  },
  {
   "cell_type": "code",
   "execution_count": null,
   "metadata": {},
   "outputs": [],
   "source": [
    "fig = px.scatter(q, x='x', y='y',color='cluster',title=\"Embeddings\")\n",
    "fig.show()"
   ]
  },
  {
   "cell_type": "code",
   "execution_count": null,
   "metadata": {},
   "outputs": [],
   "source": []
  }
 ],
 "metadata": {
  "kernelspec": {
   "display_name": "GraphMLOPs",
   "language": "python",
   "name": "python3"
  },
  "language_info": {
   "codemirror_mode": {
    "name": "ipython",
    "version": 3
   },
   "file_extension": ".py",
   "mimetype": "text/x-python",
   "name": "python",
   "nbconvert_exporter": "python",
   "pygments_lexer": "ipython3",
   "version": "3.10.7"
  },
  "orig_nbformat": 4
 },
 "nbformat": 4,
 "nbformat_minor": 2
}
